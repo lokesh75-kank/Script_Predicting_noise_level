{
 "cells": [
  {
   "cell_type": "code",
   "execution_count": 39,
   "metadata": {},
   "outputs": [],
   "source": [
    "# Uses Convolutional Neural Network to predict decibel level of sound\n",
    "\n",
    "# @Note: that time is in datetime format which includes the date of compilation.\n",
    "\n",
    "import numpy as np\n",
    "import pandas as pd\n",
    "from pandas import DataFrame as df\n",
    "\n",
    "import keras\n",
    "from keras.models import Sequential\n",
    "from keras.layers import Dense\n",
    "from keras.layers import BatchNormalization\n",
    "import keras.metrics\n",
    "\n",
    "import matplotlib.pyplot as plt\n",
    "import seaborn as sns\n",
    "\n",
    "import tensorflow as tf\n",
    "import matplotlib.pyplot as plt\n",
    "import os\n",
    "import sys\n",
    "\n",
    "# from utils import *"
   ]
  },
  {
   "cell_type": "code",
   "execution_count": 40,
   "metadata": {},
   "outputs": [],
   "source": [
    "layercount = 3\n",
    "layerunit = 64\n",
    "batchsize = 24\n",
    "epochs = 150\n",
    "state = 15\n",
    "testsize = 0.15"
   ]
  },
  {
   "cell_type": "code",
   "execution_count": 41,
   "metadata": {},
   "outputs": [
    {
     "name": "stdout",
     "output_type": "stream",
     "text": [
      "<class 'pandas.core.frame.DataFrame'>\n",
      "Int64Index: 299 entries, 157 to 115\n",
      "Data columns (total 9 columns):\n",
      " #   Column               Non-Null Count  Dtype  \n",
      "---  ------               --------------  -----  \n",
      " 0   INDEX                299 non-null    int64  \n",
      " 1   START_TIME           299 non-null    object \n",
      " 2   LATITUDE             299 non-null    float64\n",
      " 3   LONGITUDE            299 non-null    float64\n",
      " 4   DISTANCE_TO_FREEWAY  299 non-null    float64\n",
      " 5   Elevation            299 non-null    float64\n",
      " 6   SOUND_SCORE          299 non-null    int64  \n",
      " 7   NEAREST_ROAD         299 non-null    float64\n",
      " 8   AVG_DB               299 non-null    int64  \n",
      "dtypes: float64(5), int64(3), object(1)\n",
      "memory usage: 23.4+ KB\n"
     ]
    }
   ],
   "source": [
    "# Importing the dataset\n",
    "dataset = pd.read_csv('data.csv')\n",
    "\n",
    "# Shuffle the dataset\n",
    "dataset = dataset.sample(frac=1)\n",
    "\n",
    "# Drop ZIP code column\n",
    "dataset = dataset.drop(['ZIP'], axis=1)\n",
    "\n",
    "dataset.head()\n",
    "dataset.info()"
   ]
  },
  {
   "cell_type": "code",
   "execution_count": 42,
   "metadata": {},
   "outputs": [
    {
     "name": "stdout",
     "output_type": "stream",
     "text": [
      "<class 'pandas.core.frame.DataFrame'>\n",
      "Int64Index: 299 entries, 157 to 115\n",
      "Data columns (total 9 columns):\n",
      " #   Column               Non-Null Count  Dtype  \n",
      "---  ------               --------------  -----  \n",
      " 0   INDEX                299 non-null    int64  \n",
      " 1   START_TIME           299 non-null    int64  \n",
      " 2   LATITUDE             299 non-null    float64\n",
      " 3   LONGITUDE            299 non-null    float64\n",
      " 4   DISTANCE_TO_FREEWAY  299 non-null    float64\n",
      " 5   Elevation            299 non-null    float64\n",
      " 6   SOUND_SCORE          299 non-null    int64  \n",
      " 7   NEAREST_ROAD         299 non-null    float64\n",
      " 8   AVG_DB               299 non-null    int64  \n",
      "dtypes: float64(5), int64(4)\n",
      "memory usage: 23.4 KB\n"
     ]
    },
    {
     "data": {
      "text/plain": [
       "INDEX                  0\n",
       "START_TIME             0\n",
       "LATITUDE               0\n",
       "LONGITUDE              0\n",
       "DISTANCE_TO_FREEWAY    0\n",
       "Elevation              0\n",
       "SOUND_SCORE            0\n",
       "NEAREST_ROAD           0\n",
       "AVG_DB                 0\n",
       "dtype: int64"
      ]
     },
     "execution_count": 42,
     "metadata": {},
     "output_type": "execute_result"
    }
   ],
   "source": [
    "# Convert #3 START_TIME (pandas Series Object) to datetime without date\n",
    "dataset['START_TIME'] = pd.to_datetime(dataset['START_TIME']).apply(lambda x: x.value)\n",
    "\n",
    "dataset.info()\n",
    "dataset.head()\n",
    "dataset.isnull().sum()"
   ]
  },
  {
   "cell_type": "code",
   "execution_count": 43,
   "metadata": {},
   "outputs": [
    {
     "name": "stdout",
     "output_type": "stream",
     "text": [
      "              START_TIME   LATITUDE   LONGITUDE  DISTANCE_TO_FREEWAY  \\\n",
      "157  1654659660000000000  32.696218 -117.101961             0.471405   \n",
      "18   1654653780000000000  32.708869 -117.157771             0.808122   \n",
      "159  1654658280000000000  32.700912 -117.123147             0.067344   \n",
      "239  1654653000000000000  32.915384 -117.127303             0.606092   \n",
      "214  1654654620000000000  32.853873 -117.193036             0.538748   \n",
      "\n",
      "      Elevation  SOUND_SCORE  NEAREST_ROAD  AVG_DB  \n",
      "157   22.027395           72      3.876486      65  \n",
      "18     6.372311           65     47.843827      73  \n",
      "159    6.950147           68     13.004439      69  \n",
      "239  146.228851           71     24.192356      55  \n",
      "214  113.212120           80     25.950255      51  \n"
     ]
    },
    {
     "data": {
      "text/plain": [
       "(array([[ 1.65465966e+18,  3.26962180e+01, -1.17101961e+02, ...,\n",
       "          2.20273953e+01,  7.20000000e+01,  3.87648582e+00],\n",
       "        [ 1.65465378e+18,  3.27088686e+01, -1.17157771e+02, ...,\n",
       "          6.37231111e+00,  6.50000000e+01,  4.78438267e+01],\n",
       "        [ 1.65465828e+18,  3.27009121e+01, -1.17123147e+02, ...,\n",
       "          6.95014668e+00,  6.80000000e+01,  1.30044388e+01],\n",
       "        ...,\n",
       "        [ 1.65465492e+18,  3.30087744e+01, -1.17068605e+02, ...,\n",
       "          2.08564484e+02,  7.30000000e+01,  1.56201676e+01],\n",
       "        [ 1.65465858e+18,  3.27644414e+01, -1.17118654e+02, ...,\n",
       "          1.22699356e+02,  7.40000000e+01,  5.62807682e+00],\n",
       "        [ 1.65465270e+18,  3.27457720e+01, -1.17226022e+02, ...,\n",
       "          3.77820778e+01,  7.00000000e+01,  1.44381950e+01]]),\n",
       " array([65, 73, 69, 55, 51, 65, 66, 53, 70, 71, 49, 64, 66, 66, 43, 52, 73,\n",
       "        54, 65, 56, 64, 63, 57, 57, 55, 75, 72, 48, 65, 64, 56, 56, 62, 57,\n",
       "        74, 54, 69, 67, 65, 61, 63, 65, 71, 60, 51, 64, 51, 62, 60, 56, 51,\n",
       "        53, 64, 60, 72, 61, 67, 59, 68, 70, 68, 53, 60, 70, 65, 62, 64, 58,\n",
       "        63, 53, 62, 63, 59, 60, 61, 57, 44, 67, 48, 71, 52, 54, 64, 63, 63,\n",
       "        50, 51, 68, 51, 57, 58, 53, 44, 52, 59, 62, 67, 67, 50, 55, 50, 49,\n",
       "        72, 71, 54, 63, 67, 55, 47, 55, 64, 55, 54, 57, 48, 59, 56, 65, 67,\n",
       "        65, 58, 68, 70, 73, 64, 58, 56, 57, 64, 57, 68, 65, 69, 61, 54, 58,\n",
       "        68, 64, 66, 60, 71, 66, 61, 72, 66, 58, 60, 56, 69, 56, 70, 68, 62,\n",
       "        53, 69, 59, 57, 59, 55, 61, 52, 60, 63, 54, 70, 67, 59, 53, 54, 58,\n",
       "        60, 70, 62, 61, 68, 68, 53, 61, 58, 65, 56, 55, 55, 65, 58, 67, 49,\n",
       "        64, 62, 70, 58, 58, 65, 65, 59, 68, 69, 59, 60, 57, 62, 51, 66, 72,\n",
       "        64, 60, 66, 53, 62, 66, 64, 69, 70, 58, 61, 63, 68, 67, 58, 60, 68,\n",
       "        69, 64, 56, 63, 65, 61, 53, 51, 63, 69, 67, 66, 68, 64, 65, 58, 70,\n",
       "        72, 71, 60, 51, 60, 57, 63, 64, 59, 54, 53, 54, 64, 52, 47, 68, 67,\n",
       "        65, 64, 55, 63, 60, 66, 74, 66, 57, 59, 57, 57, 68, 63, 53, 65, 66,\n",
       "        69, 65, 58, 59, 62, 62, 58, 64, 56, 55, 70, 61, 55, 67, 71, 55, 60,\n",
       "        52, 55, 73, 50, 65, 62, 50, 59, 57, 56], dtype=int64))"
      ]
     },
     "execution_count": 43,
     "metadata": {},
     "output_type": "execute_result"
    }
   ],
   "source": [
    "# drops index\n",
    "try:\n",
    "    dataset = dataset.drop(['INDEX'], axis=1)\n",
    "except:\n",
    "    pass\n",
    "\n",
    "print(dataset.head())\n",
    "\n",
    "x = dataset.iloc[:,0:-1].values\n",
    "y = dataset.iloc[:, -1].values\n",
    "x, y"
   ]
  },
  {
   "cell_type": "code",
   "execution_count": 44,
   "metadata": {},
   "outputs": [
    {
     "data": {
      "text/plain": [
       "array([[-0.25451818, -1.08189953,  0.70033273, ..., -1.1306748 ,\n",
       "         0.10613418, -1.92745206],\n",
       "       [-0.64133828, -0.95234203, -0.39481467, ..., -1.38945085,\n",
       "        -1.00456002,  2.5539361 ],\n",
       "       [-0.34530248, -1.03382625,  0.28461282, ..., -1.37989932,\n",
       "        -0.52854822, -0.99708194],\n",
       "       ...,\n",
       "       [-0.56634254,  2.11905749,  1.35486863, ...,  1.95275362,\n",
       "         0.26480478, -0.73047277],\n",
       "       [-0.32556677, -0.38320908,  0.37276652, ...,  0.53341671,\n",
       "         0.42347538, -1.74892047],\n",
       "       [-0.71238687, -0.5744064 , -1.73409388, ..., -0.8702524 ,\n",
       "        -0.21120702, -0.85094579]])"
      ]
     },
     "execution_count": 44,
     "metadata": {},
     "output_type": "execute_result"
    }
   ],
   "source": [
    "import sklearn.preprocessing \n",
    "transformer = sklearn.preprocessing.StandardScaler()\n",
    "# transformer = sklearn.preprocessing.MinMaxScaler()\n",
    "# transformer = sklearn.preprocessing.MaxAbsScaler()\n",
    "# transformer = sklearn.preprocessing.Normalizer()\n",
    "# transformer = sklearn.preprocessing.RobustScaler()\n",
    "# transformer = sklearn.preprocessing.QuantileTransformer()\n",
    "x = transformer.fit_transform(x)\n",
    "x"
   ]
  },
  {
   "cell_type": "code",
   "execution_count": 45,
   "metadata": {},
   "outputs": [
    {
     "data": {
      "text/plain": [
       "((254, 7), (254,), (45, 7), (45,))"
      ]
     },
     "execution_count": 45,
     "metadata": {},
     "output_type": "execute_result"
    }
   ],
   "source": [
    "from sklearn.model_selection import train_test_split\n",
    "from keras import backend as K\n",
    "\n",
    "def soft_acc(y_true, y_pred):\n",
    "    return K.mean(K.equal(K.round(y_true), K.round(y_pred)))\n",
    "\n",
    "x_train, x_test, y_train, y_test = train_test_split(x, y, test_size = testsize, random_state=state)\n",
    "\n",
    "x_train.shape, y_train.shape, x_test.shape, y_test.shape"
   ]
  },
  {
   "cell_type": "markdown",
   "metadata": {},
   "source": [
    "# K Nearest Neighbors"
   ]
  },
  {
   "cell_type": "code",
   "execution_count": 46,
   "metadata": {},
   "outputs": [],
   "source": [
    "from sklearn.neighbors import KNeighborsClassifier\n",
    "from sklearn.model_selection import GridSearchCV\n",
    "def print_grid_search_metrics(gs):\n",
    "    print (\"Best score: \" + str(gs.best_score_))\n",
    "    print (\"Best parameters set:\")\n",
    "    best_parameters = gs.best_params_\n",
    "    for param_name in sorted(best_parameters.keys()):\n",
    "        print(param_name + ':' + str(best_parameters[param_name]))"
   ]
  },
  {
   "cell_type": "code",
   "execution_count": 47,
   "metadata": {},
   "outputs": [
    {
     "name": "stderr",
     "output_type": "stream",
     "text": [
      "c:\\Python39\\lib\\site-packages\\sklearn\\model_selection\\_split.py:676: UserWarning: The least populated class in y has only 1 members, which is less than n_splits=5.\n",
      "  warnings.warn(\n"
     ]
    },
    {
     "data": {
      "text/plain": [
       "GridSearchCV(cv=5, estimator=KNeighborsClassifier(),\n",
       "             param_grid={'n_neighbors': [1, 3, 5, 7, 9]})"
      ]
     },
     "execution_count": 47,
     "metadata": {},
     "output_type": "execute_result"
    }
   ],
   "source": [
    "classifier_KNN = KNeighborsClassifier()\n",
    "# possible hyperparamter options for KNN\n",
    "# choose k\n",
    "parameters = {\n",
    "    'n_neighbors': [1,3,5,7,9]\n",
    "}\n",
    "\n",
    "Grid_KNN = GridSearchCV(KNeighborsClassifier(), parameters, cv = 5)\n",
    "Grid_KNN.fit(x_train, y_train)"
   ]
  },
  {
   "cell_type": "code",
   "execution_count": 48,
   "metadata": {},
   "outputs": [
    {
     "name": "stdout",
     "output_type": "stream",
     "text": [
      "Best score: 0.0748235294117647\n",
      "Best parameters set:\n",
      "n_neighbors:1\n"
     ]
    }
   ],
   "source": [
    "from sklearn import neighbors\n",
    "print_grid_search_metrics(Grid_KNN)"
   ]
  },
  {
   "cell_type": "markdown",
   "metadata": {},
   "source": [
    "# RSquared"
   ]
  },
  {
   "cell_type": "code",
   "execution_count": 49,
   "metadata": {},
   "outputs": [
    {
     "name": "stdout",
     "output_type": "stream",
     "text": [
      "RSquared for K =  1 :  0.10401627510171929\n",
      "RSquared for K =  2 :  0.2628953930962067\n",
      "RSquared for K =  3 :  0.30187688673054214\n",
      "RSquared for K =  4 :  0.35625164063525383\n",
      "RSquared for K =  5 :  0.37270507940674624\n"
     ]
    }
   ],
   "source": [
    "def r2_score_from_scratch(ys_orig, ys_line):\n",
    "    y_mean_line = [ys_orig.mean() for y in ys_orig]\n",
    "    squared_error_regr = squared_error(ys_orig, ys_line)\n",
    "    squared_error_y_mean = squared_error(ys_orig, y_mean_line)\n",
    "    return 1 - (squared_error_regr / squared_error_y_mean)\n",
    "\n",
    "def squared_error(ys_orig, ys_line):\n",
    "    return sum((ys_line - ys_orig) * (ys_line - ys_orig))\n",
    "\n",
    "for K in range(5):\n",
    "    K = K + 1\n",
    "    model = neighbors.KNeighborsRegressor(n_neighbors = K)\n",
    "    model.fit(x_train, y_train) #fit the model\n",
    "    pred=model.predict(x_test) #make prediction on test set\n",
    "    r_squared = r2_score_from_scratch(y_test, pred)\n",
    "    print('RSquared for K = ', K, ': ', r_squared)"
   ]
  },
  {
   "cell_type": "markdown",
   "metadata": {},
   "source": [
    "# MSE"
   ]
  },
  {
   "cell_type": "code",
   "execution_count": 50,
   "metadata": {},
   "outputs": [
    {
     "name": "stdout",
     "output_type": "stream",
     "text": [
      "MSE value for k=  1 is: 33.71111111111111\n",
      "MSE value for k=  2 is: 27.733333333333334\n",
      "MSE value for k=  3 is: 26.266666666666666\n",
      "MSE value for k=  4 is: 24.220833333333335\n",
      "MSE value for k=  5 is: 23.60177777777777\n"
     ]
    }
   ],
   "source": [
    "from sklearn import neighbors\n",
    "from sklearn.metrics import mean_squared_error\n",
    "mse_val = [] #to store mse values for different k\n",
    "for K in range(5):\n",
    "    K = K + 1\n",
    "    model = neighbors.KNeighborsRegressor(n_neighbors = K)\n",
    "\n",
    "    model.fit(x_train, y_train) #fit the model\n",
    "    pred=model.predict(x_test) #make prediction on test set\n",
    "    error = mean_squared_error(y_test,pred) #calculate mse\n",
    "    mse_val.append(error) #store mse values\n",
    "    print('MSE value for k= ' , K , 'is:', error)"
   ]
  },
  {
   "cell_type": "markdown",
   "metadata": {},
   "source": [
    "# MAE\n"
   ]
  },
  {
   "cell_type": "code",
   "execution_count": 51,
   "metadata": {},
   "outputs": [
    {
     "name": "stdout",
     "output_type": "stream",
     "text": [
      "MAE value for k=  1 is: [ 8.  6.  3.  0.  1.  2.  8.  7.  1.  4.  6.  4.  4.  3.  7.  4.  3.  6.\n",
      "  3.  2.  3.  9. 11.  0.  1.  2.  4.  1.  1.  7.  2.  9. 12. 12.  4.  5.\n",
      "  9.  8.  3.  0. 12.  2.  3.  4.  7.]\n",
      "Averageof MAE:  4.733333333333333\n",
      "MAE value for k=  2 is: [ 4.   4.   2.5  0.5  2.   0.  11.   3.   1.5  5.5  5.5  3.5  3.   5.5\n",
      " 11.   3.   5.   6.   0.5  0.   1.   6.   8.   2.5  2.5  6.   1.   3.5\n",
      "  5.   4.5  0.5  7.   5.   8.   4.   4.   8.   3.5  3.  10.   7.   4.\n",
      "  4.5  0.5 11. ]\n",
      "Averageof MAE:  4.377777777777778\n",
      "MAE value for k=  3 is: [ 4.33333333  4.66666667  7.          0.66666667  2.          0.66666667\n",
      "  7.33333333  6.          2.          4.          6.66666667  2.33333333\n",
      "  5.33333333  6.33333333 11.33333333  3.33333333  3.          3.33333333\n",
      "  1.33333333  2.          1.          6.          7.33333333  2.\n",
      "  3.          5.33333333  0.33333333  2.33333333  5.66666667  5.33333333\n",
      "  0.33333333  6.33333333  2.          7.66666667  4.66666667  4.66666667\n",
      "  8.          0.          2.66666667  8.         10.          6.\n",
      "  3.33333333  1.66666667  8.        ]\n",
      "Averageof MAE:  4.340740740740741\n",
      "MAE value for k=  4 is: [ 5.5   6.5   6.5   0.    1.5   0.    7.    6.75  2.25  0.25  5.25  2.25\n",
      "  2.25  7.75  8.5   1.5   2.    3.25  1.75  3.    0.5   5.5   6.5   2.75\n",
      "  2.5   4.5   0.    0.75  5.    4.    1.    7.    4.25  7.    3.    3.\n",
      "  6.75  0.75  2.25  9.75 10.75  6.25  5.25  4.5   6.5 ]\n",
      "Averageof MAE:  4.083333333333333\n",
      "MAE value for k=  5 is: [ 7.8  6.8  5.4  2.   0.6  4.   5.2  6.8  1.6  1.6  5.   2.6  0.8  6.8\n",
      "  7.8  2.2  2.4  4.   2.4  2.6  0.2  5.2  5.6  0.8  3.4  3.4  0.6  0.2\n",
      "  5.6  6.6  1.2  4.8  4.2  7.   3.4  4.   6.6  1.   1.2 10.4  9.   7.2\n",
      "  3.6  5.6  6.4]\n",
      "Averageof MAE:  4.1244444444444435\n"
     ]
    }
   ],
   "source": [
    "import statistics\n",
    "mae_val = [] # to srore mae values for different k\n",
    "for K in range(5):\n",
    "    K = K + 1\n",
    "    model = neighbors.KNeighborsRegressor(n_neighbors = K)\n",
    "    \n",
    "    model.fit(x_train, y_train) # fit the model\n",
    "    pred=model.predict(x_test) # make prediction on test set\n",
    "    error = abs(y_test - pred)# calculate mae\n",
    "    mae_val.append(error)# store mae value\n",
    "    print('MAE value for k= ', K , 'is:', error)\n",
    "    average_mae = statistics.mean(error)\n",
    "    print(\"Averageof MAE: \", average_mae)"
   ]
  },
  {
   "cell_type": "code",
   "execution_count": null,
   "metadata": {},
   "outputs": [],
   "source": []
  }
 ],
 "metadata": {
  "interpreter": {
   "hash": "81794d4967e6c3204c66dcd87b604927b115b27c00565d3d43f05ba2f3a2cb0d"
  },
  "kernelspec": {
   "display_name": "Python 3.9.0 64-bit",
   "language": "python",
   "name": "python3"
  },
  "language_info": {
   "codemirror_mode": {
    "name": "ipython",
    "version": 3
   },
   "file_extension": ".py",
   "mimetype": "text/x-python",
   "name": "python",
   "nbconvert_exporter": "python",
   "pygments_lexer": "ipython3",
   "version": "3.9.0"
  }
 },
 "nbformat": 4,
 "nbformat_minor": 2
}
